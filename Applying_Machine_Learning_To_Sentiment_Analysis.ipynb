{
  "nbformat": 4,
  "nbformat_minor": 0,
  "metadata": {
    "colab": {
      "provenance": [],
      "private_outputs": true,
      "gpuType": "V5E1"
    },
    "kernelspec": {
      "name": "python3",
      "display_name": "Python 3"
    },
    "language_info": {
      "name": "python"
    },
    "accelerator": "TPU"
  },
  "cells": [
    {
      "cell_type": "markdown",
      "source": [
        "**Preparing the IMDb movie review data for text processing**"
      ],
      "metadata": {
        "id": "lJwg4-hQkCMq"
      }
    },
    {
      "cell_type": "markdown",
      "source": [
        "**Obtaining the IMDb movie review dataset**"
      ],
      "metadata": {
        "id": "RSG4QdaYkL0k"
      }
    },
    {
      "cell_type": "code",
      "execution_count": null,
      "metadata": {
        "id": "F521QtZjj2f4"
      },
      "outputs": [],
      "source": [
        "import os\n",
        "import sys\n",
        "import tarfile\n",
        "import time\n",
        "\n",
        "\n",
        "source = 'http://ai.stanford.edu/~amaas/data/sentiment/aclImdb_v1.tar.gz'\n",
        "target = 'aclImdb_v1.tar.gz'\n",
        "\n",
        "\n",
        "def reporthook(count, block_size, total_size):\n",
        "    global start_time\n",
        "    if count == 0:\n",
        "        start_time = time.time()\n",
        "        return\n",
        "    duration = time.time() - start_time\n",
        "    progress_size = int(count * block_size)\n",
        "    speed = progress_size / (1024.**2 * duration)\n",
        "    percent = count * block_size * 100. / total_size\n",
        "    sys.stdout.write(\"\\r%d%% | %d MB | %.2f MB/s | %d sec elapsed\" %\n",
        "                    (percent, progress_size / (1024.**2), speed, duration))\n",
        "    sys.stdout.flush()\n",
        "\n",
        "\n",
        "if not os.path.isdir('aclImdb') and not os.path.isfile('aclImdb_v1.tar.gz'):\n",
        "\n",
        "    if (sys.version_info < (3, 0)):\n",
        "        import urllib\n",
        "        urllib.urlretrieve(source, target, reporthook)\n",
        "\n",
        "    else:\n",
        "        import urllib.request\n",
        "        urllib.request.urlretrieve(source, target, reporthook)"
      ]
    },
    {
      "cell_type": "code",
      "source": [
        "if not os.path.isdir('aclImdb'):\n",
        "\n",
        "    with tarfile.open(target, 'r:gz') as tar:\n",
        "        tar.extractall()"
      ],
      "metadata": {
        "id": "whWD-yGrkTjV"
      },
      "execution_count": null,
      "outputs": []
    },
    {
      "cell_type": "markdown",
      "source": [
        "Preprocessing the movie dataset into more convenient format"
      ],
      "metadata": {
        "id": "ibanpGhnkWtK"
      }
    },
    {
      "cell_type": "code",
      "metadata": {
        "id": "09f82733"
      },
      "source": [
        "%pip install pyprind"
      ],
      "execution_count": null,
      "outputs": []
    },
    {
      "cell_type": "code",
      "source": [
        "import pyprind\n",
        "import pandas as pd\n",
        "import os\n",
        "\n",
        "# change the `basepath` to the directory of the\n",
        "# unzipped movie dataset\n",
        "\n",
        "basepath = 'aclImdb'\n",
        "\n",
        "labels = {'pos': 1, 'neg': 0}\n",
        "pbar = pyprind.ProgBar(50000)\n",
        "df = pd.DataFrame()\n",
        "data_list = [] # Create a list to store the data\n",
        "for s in ('test', 'train'):\n",
        "    for l in ('pos', 'neg'):\n",
        "        path = os.path.join(basepath, s, l)\n",
        "        for file in sorted(os.listdir(path)):\n",
        "            with open(os.path.join(path, file),\n",
        "                      'r', encoding='utf-8') as infile:\n",
        "                txt = infile.read()\n",
        "            data_list.append([txt, labels[l]]) # Append to the list\n",
        "            pbar.update()\n",
        "\n",
        "# Concatenate the list of data into a DataFrame\n",
        "df = pd.concat([df, pd.DataFrame(data_list, columns=['review', 'sentiment'])], ignore_index=True)\n",
        "df.columns = ['review', 'sentiment']"
      ],
      "metadata": {
        "id": "F0rYi6wykXp1"
      },
      "execution_count": null,
      "outputs": []
    },
    {
      "cell_type": "markdown",
      "source": [
        "1. Loads 50,000 IMDb movie reviews (25k train + 25k test).\n",
        "\n",
        "2. Reads each text file and labels it as positive (1) or negative (0).\n",
        "\n",
        "3. Combines everything into a single pandas DataFrame for later preprocessing or model training."
      ],
      "metadata": {
        "id": "hCqqCKDXqPH6"
      }
    },
    {
      "cell_type": "code",
      "source": [
        "\n",
        "import numpy as np\n",
        "\n",
        "np.random.seed(0)\n",
        "df = df.reindex(np.random.permutation(df.index))"
      ],
      "metadata": {
        "id": "V8z7vbe8k25j"
      },
      "execution_count": null,
      "outputs": []
    },
    {
      "cell_type": "markdown",
      "source": [
        "\n",
        "Optional: Saving the assembled data as CSV file:\n"
      ],
      "metadata": {
        "id": "VYi8uSXKk6re"
      }
    },
    {
      "cell_type": "code",
      "source": [
        "\n",
        "df.to_csv('movie_data.csv', index=False, encoding='utf-8')"
      ],
      "metadata": {
        "id": "NH9Parjgk7m_"
      },
      "execution_count": null,
      "outputs": []
    },
    {
      "cell_type": "code",
      "source": [
        "import pandas as pd\n",
        "\n",
        "df = pd.read_csv('movie_data.csv', encoding='utf-8')\n",
        "df.head(3)"
      ],
      "metadata": {
        "id": "Poe8nH7tk-r1"
      },
      "execution_count": null,
      "outputs": []
    },
    {
      "cell_type": "code",
      "source": [
        "df.shape"
      ],
      "metadata": {
        "id": "EQQCcxo8mARd"
      },
      "execution_count": null,
      "outputs": []
    },
    {
      "cell_type": "markdown",
      "source": [
        "**Introducing the bag-of-words model**"
      ],
      "metadata": {
        "id": "G-Hh_C8WmEqW"
      }
    },
    {
      "cell_type": "markdown",
      "source": [
        "**Transforming documents into feature vectors**"
      ],
      "metadata": {
        "id": "Rv51SwALmKOo"
      }
    },
    {
      "cell_type": "markdown",
      "source": [
        "\n",
        "By calling the fit_transform method on CountVectorizer, we just constructed the vocabulary of the bag-of-words model and transformed the following three sentences into sparse feature vectors:\n",
        "\n",
        "1.  The sun is shining\n",
        "2. The weather is sweet\n",
        "3. The sun is shining, the weather is sweet, and one and one is two\n",
        "\n"
      ],
      "metadata": {
        "id": "tDACou0vnBWU"
      }
    },
    {
      "cell_type": "code",
      "source": [
        "import numpy as np\n",
        "from sklearn.feature_extraction.text import CountVectorizer\n",
        "\n",
        "count = CountVectorizer()\n",
        "docs = np.array([\n",
        "        'The sun is shining',\n",
        "        'The weather is sweet',\n",
        "        'The sun is shining, the weather is sweet, and one and one is two'])\n",
        "bag = count.fit_transform(docs)"
      ],
      "metadata": {
        "id": "1TTXR5l7nVfZ"
      },
      "execution_count": null,
      "outputs": []
    },
    {
      "cell_type": "markdown",
      "source": [
        "\n",
        "Now let us print the contents of the vocabulary to get a better understanding of the underlying concepts:"
      ],
      "metadata": {
        "id": "6YTWJDL7naGe"
      }
    },
    {
      "cell_type": "code",
      "source": [
        "\n",
        "print(count.vocabulary_)"
      ],
      "metadata": {
        "id": "iC7NWeHunZHb"
      },
      "execution_count": null,
      "outputs": []
    },
    {
      "cell_type": "markdown",
      "source": [
        "As we can see from executing the preceding command, the vocabulary is stored in a Python dictionary, which maps the unique words that are mapped to integer indices. Next let us print the feature vectors that we just created:\n",
        "\n",
        "Each index position in the feature vectors shown here corresponds to the integer values that are stored as dictionary items in the CountVectorizer vocabulary. For example, the rst feature at index position 0 resembles the count of the word and, which only occurs in the last document, and the word is at index position 1 (the 2nd feature in the document vectors) occurs in all three sentences. Those values in the feature vectors are also called the raw term frequencies: tf (t,d)—the number of times a term t occurs in a document d."
      ],
      "metadata": {
        "id": "mOmNE20anwyq"
      }
    },
    {
      "cell_type": "code",
      "source": [
        "print(bag.toarray())"
      ],
      "metadata": {
        "id": "FRf04hyInyiu"
      },
      "execution_count": null,
      "outputs": []
    },
    {
      "cell_type": "markdown",
      "source": [
        "\n",
        "**Assessing word relevancy via term frequency-inverse document frequency**"
      ],
      "metadata": {
        "id": "_wDzz5v4n4f-"
      }
    },
    {
      "cell_type": "code",
      "source": [
        "\n",
        "np.set_printoptions(precision=2)"
      ],
      "metadata": {
        "id": "F0nPS9q-o-bC"
      },
      "execution_count": null,
      "outputs": []
    },
    {
      "cell_type": "code",
      "source": [
        "from sklearn.feature_extraction.text import TfidfTransformer\n",
        "\n",
        "tfidf = TfidfTransformer(use_idf=True,\n",
        "                         norm='l2',\n",
        "                         smooth_idf=True)\n",
        "print(tfidf.fit_transform(count.fit_transform(docs))\n",
        "      .toarray())"
      ],
      "metadata": {
        "id": "y366ojx7pDaP"
      },
      "execution_count": null,
      "outputs": []
    },
    {
      "cell_type": "code",
      "source": [
        "tf_is = 3\n",
        "n_docs = 3\n",
        "idf_is = np.log((n_docs+1) / (3+1))\n",
        "tfidf_is = tf_is * (idf_is + 1)\n",
        "print('tf-idf of term \"is\" = %.2f' % tfidf_is)"
      ],
      "metadata": {
        "id": "EA9jrgllpGDY"
      },
      "execution_count": null,
      "outputs": []
    },
    {
      "cell_type": "code",
      "source": [
        "\n",
        "tfidf = TfidfTransformer(use_idf=True, norm=None, smooth_idf=True)\n",
        "raw_tfidf = tfidf.fit_transform(count.fit_transform(docs)).toarray()[-1]\n",
        "raw_tfidf"
      ],
      "metadata": {
        "id": "QG0DYGgppI_x"
      },
      "execution_count": null,
      "outputs": []
    },
    {
      "cell_type": "code",
      "source": [
        "l2_tfidf = raw_tfidf / np.sqrt(np.sum(raw_tfidf**2))\n",
        "l2_tfidf"
      ],
      "metadata": {
        "id": "qoPrSDPbpLHw"
      },
      "execution_count": null,
      "outputs": []
    },
    {
      "cell_type": "markdown",
      "source": [
        "**Cleaning text data**"
      ],
      "metadata": {
        "id": "OtoZdkyboOIS"
      }
    },
    {
      "cell_type": "code",
      "source": [
        "\n",
        "df.loc[0, 'review'][-50:]"
      ],
      "metadata": {
        "id": "a0adQVEAng-r"
      },
      "execution_count": null,
      "outputs": []
    },
    {
      "cell_type": "code",
      "source": [
        "import re\n",
        "def preprocessor(text):\n",
        "    text = re.sub('<[^>]*>', '', text)\n",
        "    emoticons = re.findall('(?::|;|=)(?:-)?(?:\\)|\\(|D|P)',\n",
        "                           text)\n",
        "    text = (re.sub('[\\W]+', ' ', text.lower()) +\n",
        "            ' '.join(emoticons).replace('-', ''))\n",
        "    return text"
      ],
      "metadata": {
        "id": "HDMaAE79oUVz"
      },
      "execution_count": null,
      "outputs": []
    },
    {
      "cell_type": "code",
      "source": [
        "\n",
        "preprocessor(df.loc[0, 'review'][-50:])"
      ],
      "metadata": {
        "id": "MwIf2V8KoZwq"
      },
      "execution_count": null,
      "outputs": []
    },
    {
      "cell_type": "code",
      "source": [
        "preprocessor(\"</a>This :) is :( a test :-)!\")"
      ],
      "metadata": {
        "id": "9k62cfThocLI"
      },
      "execution_count": null,
      "outputs": []
    },
    {
      "cell_type": "code",
      "source": [
        "df['review'] = df['review'].apply(preprocessor)"
      ],
      "metadata": {
        "id": "cCNRH47IoeuX"
      },
      "execution_count": null,
      "outputs": []
    },
    {
      "cell_type": "markdown",
      "source": [
        "Processing documents into tokens"
      ],
      "metadata": {
        "id": "SBVEMGgPohLx"
      }
    },
    {
      "cell_type": "code",
      "source": [
        "from nltk.stem.porter import PorterStemmer\n",
        "\n",
        "porter = PorterStemmer()\n",
        "\n",
        "def tokenizer(text):\n",
        "    return text.split()\n",
        "\n",
        "\n",
        "def tokenizer_porter(text):\n",
        "    return [porter.stem(word) for word in text.split()]"
      ],
      "metadata": {
        "id": "APDsTulMogyU"
      },
      "execution_count": null,
      "outputs": []
    },
    {
      "cell_type": "code",
      "source": [
        "tokenizer('runners like running and thus they run')"
      ],
      "metadata": {
        "id": "P1vZc1nVol3h"
      },
      "execution_count": null,
      "outputs": []
    },
    {
      "cell_type": "code",
      "source": [
        "tokenizer_porter('runners like running and thus they run')"
      ],
      "metadata": {
        "id": "xdK7veGwon_G"
      },
      "execution_count": null,
      "outputs": []
    },
    {
      "cell_type": "code",
      "source": [
        "import nltk\n",
        "\n",
        "nltk.download('stopwords')"
      ],
      "metadata": {
        "id": "W5g5LdgQop6o"
      },
      "execution_count": null,
      "outputs": []
    },
    {
      "cell_type": "code",
      "source": [
        "from nltk.corpus import stopwords\n",
        "\n",
        "stop = stopwords.words('english')\n",
        "[w for w in tokenizer_porter('a runner likes running and runs a lot')[-10:]\n",
        "if w not in stop]"
      ],
      "metadata": {
        "id": "J6_HxybnoseO"
      },
      "execution_count": null,
      "outputs": []
    },
    {
      "cell_type": "markdown",
      "source": [
        "**Training a logistic regression model for document classification**"
      ],
      "metadata": {
        "id": "ph3DP0LIouk6"
      }
    },
    {
      "cell_type": "code",
      "source": [
        "X_train = df.loc[:25000, 'review'].values\n",
        "y_train = df.loc[:25000, 'sentiment'].values\n",
        "X_test = df.loc[25000:, 'review'].values\n",
        "y_test = df.loc[25000:, 'sentiment'].values"
      ],
      "metadata": {
        "id": "v7FW0uFNoxFj"
      },
      "execution_count": null,
      "outputs": []
    },
    {
      "cell_type": "code",
      "source": [
        "from sklearn.pipeline import Pipeline\n",
        "from sklearn.linear_model import LogisticRegression\n",
        "from sklearn.feature_extraction.text import TfidfVectorizer\n",
        "from sklearn.model_selection import GridSearchCV\n",
        "\n",
        "tfidf = TfidfVectorizer(strip_accents=None,\n",
        "                        lowercase=False,\n",
        "                        preprocessor=None)\n",
        "\n",
        "param_grid = [{'vect__ngram_range': [(1, 1)],\n",
        "               'vect__stop_words': [stop, None],\n",
        "               'vect__tokenizer': [tokenizer, tokenizer_porter],\n",
        "               'clf__penalty': ['l1', 'l2'],\n",
        "               'clf__C': [1.0, 10.0, 100.0]},\n",
        "              {'vect__ngram_range': [(1, 1)],\n",
        "               'vect__stop_words': [stop, None],\n",
        "               'vect__tokenizer': [tokenizer, tokenizer_porter],\n",
        "               'vect__use_idf':[False],\n",
        "               'vect__norm':[None],\n",
        "               'clf__penalty': ['l1', 'l2'],\n",
        "               'clf__C': [1.0, 10.0, 100.0]},\n",
        "              ]\n",
        "\n",
        "lr_tfidf = Pipeline([('vect', tfidf),\n",
        "                     ('clf', LogisticRegression(random_state=0))])\n",
        "\n",
        "gs_lr_tfidf = GridSearchCV(lr_tfidf, param_grid,\n",
        "                           scoring='accuracy',\n",
        "                           cv=5,\n",
        "                           verbose=1,\n",
        "                           n_jobs=-1)"
      ],
      "metadata": {
        "id": "GOwoBtq3o2c5"
      },
      "execution_count": null,
      "outputs": []
    },
    {
      "cell_type": "markdown",
      "source": [
        "Builds a TF–IDF + Logistic Regression text classification pipeline and uses Grid Search to automatically find the best hyperparameters for maximum accuracy."
      ],
      "metadata": {
        "id": "vknXIDh5y-TR"
      }
    },
    {
      "cell_type": "code",
      "source": [
        "\n",
        "## \"logging\" output when this notebook is run\n",
        "## on the Travis Continuous Integration\n",
        "## platform to test the code as well as\n",
        "## speeding up the run using a smaller\n",
        "## dataset for debugging\n",
        "\n",
        "if 'TRAVIS' in os.environ:\n",
        "    gs_lr_tfidf.verbose=2\n",
        "    X_train = df.loc[:250, 'review'].values\n",
        "    y_train = df.loc[:250, 'sentiment'].values\n",
        "    X_test = df.loc[25000:25250, 'review'].values\n",
        "    y_test = df.loc[25000:25250, 'sentiment'].values"
      ],
      "metadata": {
        "id": "i9iMGotjq96_"
      },
      "execution_count": null,
      "outputs": []
    },
    {
      "cell_type": "markdown",
      "source": [
        "**Important Note about the running time**\n",
        "\n",
        "Executing the following code cell may **take up to 30-60** min depending on your machine, since based on the parameter grid we defined, there are 22235 + 22235 = 240 models to fit.\n",
        "\n",
        "If you do not wish to wait so long, you could reduce the size of the dataset by decreasing the number of training samples, for example, as follows:"
      ],
      "metadata": {
        "id": "19cHW3P7z6k8"
      }
    },
    {
      "cell_type": "markdown",
      "source": [
        "- X_train = df.loc[:2500, 'review'].values\n",
        "- y_train = df.loc[:2500, 'sentiment'].values"
      ],
      "metadata": {
        "id": "2GMZ4sHr0MHh"
      }
    },
    {
      "cell_type": "markdown",
      "source": [
        "However, note that decreasing the training set size to such a small number will likely result in poorly performing models. Alternatively, you can delete parameters from the grid above to reduce the number of models to fit -- for example, by using the following:"
      ],
      "metadata": {
        "id": "klQ4MyLe0dwv"
      }
    },
    {
      "cell_type": "markdown",
      "source": [
        "\n",
        "\n",
        "```\n",
        "param_grid = [{'vect__ngram_range': [(1, 1)],\n",
        "               'vect__stop_words': [stop, None],\n",
        "               'vect__tokenizer': [tokenizer],\n",
        "               'clf__penalty': ['l1', 'l2'],\n",
        "               'clf__C': [1.0, 10.0]},\n",
        "              ]\n",
        "```\n",
        "\n"
      ],
      "metadata": {
        "id": "KSkDoVWc0fye"
      }
    },
    {
      "cell_type": "code",
      "source": [
        "gs_lr_tfidf.fit(X_train, y_train)"
      ],
      "metadata": {
        "id": "lrftcN4FrJ5a"
      },
      "execution_count": null,
      "outputs": []
    },
    {
      "cell_type": "code",
      "source": [],
      "metadata": {
        "id": "V3lKPIpBcwmR"
      },
      "execution_count": null,
      "outputs": []
    },
    {
      "cell_type": "code",
      "source": [],
      "metadata": {
        "id": "BFpemHrpcwg6"
      },
      "execution_count": null,
      "outputs": []
    },
    {
      "cell_type": "code",
      "source": [
        "clf = gs_lr_tfidf.best_estimator_\n",
        "print('Test Accuracy: %.3f' % clf.score(X_test, y_test))"
      ],
      "metadata": {
        "id": "TVhPhFxmraov"
      },
      "execution_count": null,
      "outputs": []
    },
    {
      "cell_type": "markdown",
      "source": [
        "\n",
        "**Start comment:**"
      ],
      "metadata": {
        "id": "J0SrKv8v6ZPk"
      }
    },
    {
      "cell_type": "markdown",
      "source": [
        "Please note that gs_lr_tfidf.best_score_ is the average k-fold cross-validation score. I.e., if we have a GridSearchCV object with 5-fold cross-validation (like the one above), the best_score_ attribute returns the average score over the 5-folds of the best model. To illustrate this with an example:"
      ],
      "metadata": {
        "id": "97EjadD-6ccx"
      }
    },
    {
      "cell_type": "markdown",
      "source": [
        "**Working with bigger data - online algorithms and out-of-core learning**"
      ],
      "metadata": {
        "id": "vx1mlRCo63l3"
      }
    },
    {
      "cell_type": "code",
      "source": [
        "# This cell is not contained in the book but\n",
        "# added for convenience so that the notebook\n",
        "# can be executed starting here, without\n",
        "# executing prior code in this notebook\n",
        "\n",
        "import os\n",
        "import gzip\n",
        "\n",
        "\n",
        "if not os.path.isfile('movie_data.csv'):\n",
        "    if not os.path.isfile('movie_data.csv.gz'):\n",
        "        print('Please place a copy of the movie_data.csv.gz'\n",
        "              'in this directory. You can obtain it by'\n",
        "              'a) executing the code in the beginning of this'\n",
        "              'notebook or b) by downloading it from GitHub:'\n",
        "              'https://github.com/rasbt/python-machine-learning-'\n",
        "              'book-2nd-edition/blob/master/code/ch08/movie_data.csv.gz')\n",
        "    else:\n",
        "        with gzip.open('movie_data.csv.gz', 'rb') as in_f, \\\n",
        "             open('movie_data.csv', 'wb') as out_f:\n",
        "            out_f.write(in_f.read())"
      ],
      "metadata": {
        "id": "zofqT9AY0_6O"
      },
      "execution_count": null,
      "outputs": []
    },
    {
      "cell_type": "code",
      "source": [
        "import numpy as np\n",
        "import re\n",
        "from nltk.corpus import stopwords\n",
        "\n",
        "\n",
        "# The `stop` is defined as earlier in this chapter\n",
        "# Added it here for convenience, so that this section\n",
        "# can be run as standalone without executing prior code\n",
        "# in the directory\n",
        "stop = stopwords.words('english')\n",
        "\n",
        "\n",
        "def tokenizer(text):\n",
        "    text = re.sub('<[^>]*>', '', text)\n",
        "    emoticons = re.findall('(?::|;|=)(?:-)?(?:\\)|\\(|D|P)', text.lower())\n",
        "    text = re.sub('[\\W]+', ' ', text.lower()) +\\\n",
        "        ' '.join(emoticons).replace('-', '')\n",
        "    tokenized = [w for w in text.split() if w not in stop]\n",
        "    return tokenized\n",
        "\n",
        "\n",
        "def stream_docs(path):\n",
        "    with open(path, 'r', encoding='utf-8') as csv:\n",
        "        next(csv)  # skip header\n",
        "        for line in csv:\n",
        "            text, label = line[:-3], int(line[-2])\n",
        "            yield text, label"
      ],
      "metadata": {
        "id": "yOB-Z5HC7H1l"
      },
      "execution_count": null,
      "outputs": []
    },
    {
      "cell_type": "code",
      "source": [
        "next(stream_docs(path='movie_data.csv'))"
      ],
      "metadata": {
        "id": "H21KwNef7Kky"
      },
      "execution_count": null,
      "outputs": []
    },
    {
      "cell_type": "code",
      "source": [
        "def get_minibatch(doc_stream, size):\n",
        "    docs, y = [], []\n",
        "    try:\n",
        "        for _ in range(size):\n",
        "            text, label = next(doc_stream)\n",
        "            docs.append(text)\n",
        "            y.append(label)\n",
        "    except StopIteration:\n",
        "        return None, None\n",
        "    return docs, y"
      ],
      "metadata": {
        "id": "a7mUfOZZ7yLI"
      },
      "execution_count": null,
      "outputs": []
    },
    {
      "cell_type": "code",
      "source": [
        "from sklearn.feature_extraction.text import HashingVectorizer\n",
        "from sklearn.linear_model import SGDClassifier\n",
        "\n",
        "\n",
        "vect = HashingVectorizer(decode_error='ignore',\n",
        "                         n_features=2**21,\n",
        "                         preprocessor=None,\n",
        "                         tokenizer=tokenizer)"
      ],
      "metadata": {
        "id": "-O3YaPcH75pC"
      },
      "execution_count": null,
      "outputs": []
    },
    {
      "cell_type": "code",
      "source": [
        "from distutils.version import LooseVersion as Version\n",
        "from sklearn import __version__ as sklearn_version\n",
        "\n",
        "\n",
        "if Version(sklearn_version) < '0.18':\n",
        "    clf = SGDClassifier(loss='log', random_state=1, n_iter=1)\n",
        "else:\n",
        "    clf = SGDClassifier(loss='log_loss', random_state=1, max_iter=1)\n",
        "\n",
        "\n",
        "doc_stream = stream_docs(path='movie_data.csv')"
      ],
      "metadata": {
        "id": "7lZk_ftI79cz"
      },
      "execution_count": null,
      "outputs": []
    },
    {
      "cell_type": "code",
      "source": [],
      "metadata": {
        "id": "-xLuk9s7eWj7"
      },
      "execution_count": null,
      "outputs": []
    },
    {
      "cell_type": "code",
      "source": [
        "import pyprind\n",
        "pbar = pyprind.ProgBar(45)\n",
        "\n",
        "classes = np.array([0, 1])\n",
        "for _ in range(45):\n",
        "    X_train, y_train = get_minibatch(doc_stream, size=1000)\n",
        "    if not X_train:\n",
        "        break\n",
        "    X_train = vect.transform(X_train)\n",
        "    clf.partial_fit(X_train, y_train, classes=classes)\n",
        "    pbar.update()"
      ],
      "metadata": {
        "id": "YwUT5iZE8BIt"
      },
      "execution_count": null,
      "outputs": []
    },
    {
      "cell_type": "code",
      "source": [
        "X_test, y_test = get_minibatch(doc_stream, size=5000)\n",
        "X_test = vect.transform(X_test)\n",
        "print('Accuracy: %.3f' % clf.score(X_test, y_test))"
      ],
      "metadata": {
        "id": "mNzBhPlM8dN8"
      },
      "execution_count": null,
      "outputs": []
    },
    {
      "cell_type": "markdown",
      "source": [
        "**Topic modeling**"
      ],
      "metadata": {
        "id": "DqOLXwKm8fys"
      }
    },
    {
      "cell_type": "markdown",
      "source": [
        "Decomposing text documents with Latent Dirichlet Allocation"
      ],
      "metadata": {
        "id": "JEbHy3Iv8jWC"
      }
    },
    {
      "cell_type": "markdown",
      "source": [
        "Latent Dirichlet Allocation with scikit-learn\n",
        "- LDA automatically finds patterns of words that tend to appear together and groups them into topics."
      ],
      "metadata": {
        "id": "00D-Hf8N8lv7"
      }
    },
    {
      "cell_type": "code",
      "source": [
        "import pandas as pd\n",
        "\n",
        "df = pd.read_csv('movie_data.csv', encoding='utf-8')\n",
        "df.head(3)"
      ],
      "metadata": {
        "id": "SuxEHcHW8nET"
      },
      "execution_count": null,
      "outputs": []
    },
    {
      "cell_type": "code",
      "source": [
        "## @Readers: PLEASE IGNORE THIS CELL\n",
        "##\n",
        "## This cell is meant to create a smaller dataset if\n",
        "## the notebook is run on the Travis Continuous Integration\n",
        "## platform to test the code on a smaller dataset\n",
        "## to prevent timeout errors and just serves a debugging tool\n",
        "## for this notebook\n",
        "\n",
        "if 'TRAVIS' in os.environ:\n",
        "    df.loc[:500].to_csv('movie_data.csv')\n",
        "    df = pd.read_csv('movie_data.csv', nrows=500)\n",
        "    print('SMALL DATA SUBSET CREATED FOR TESTING')"
      ],
      "metadata": {
        "id": "tCLsc2M08jDa"
      },
      "execution_count": null,
      "outputs": []
    },
    {
      "cell_type": "code",
      "source": [
        "from sklearn.feature_extraction.text import CountVectorizer\n",
        "\n",
        "count = CountVectorizer(stop_words='english',\n",
        "                        max_df=.1,\n",
        "                        max_features=5000)\n",
        "X = count.fit_transform(df['review'].values)"
      ],
      "metadata": {
        "id": "5cL7PIb78hBk"
      },
      "execution_count": null,
      "outputs": []
    },
    {
      "cell_type": "code",
      "source": [
        "from sklearn.decomposition import LatentDirichletAllocation\n",
        "\n",
        "lda = LatentDirichletAllocation(n_components=10,\n",
        "                                random_state=123,\n",
        "                                learning_method='batch')\n",
        "X_topics = lda.fit_transform(X)"
      ],
      "metadata": {
        "id": "A8HE8Tr69g7g"
      },
      "execution_count": null,
      "outputs": []
    },
    {
      "cell_type": "code",
      "source": [
        "lda.components_.shape"
      ],
      "metadata": {
        "id": "xLtmXZmv9js1"
      },
      "execution_count": null,
      "outputs": []
    },
    {
      "cell_type": "code",
      "source": [
        "n_top_words = 5\n",
        "feature_names = count.get_feature_names_out()\n",
        "\n",
        "for topic_idx, topic in enumerate(lda.components_):\n",
        "    print(\"Topic %d:\" % (topic_idx + 1))\n",
        "    print(\" \".join([feature_names[i]\n",
        "                    for i in topic.argsort()\\\n",
        "                        [:-n_top_words - 1:-1]]))"
      ],
      "metadata": {
        "id": "aiQrCkQm-KtN"
      },
      "execution_count": null,
      "outputs": []
    },
    {
      "cell_type": "markdown",
      "source": [
        "Based on reading the 5 most important words for each topic, we may guess that the LDA identified the following topics:\n",
        "\n",
        "1. Generally bad movies (not really a topic category)\n",
        "2. Movies about families\n",
        "3. War movies\n",
        "4. Art movies\n",
        "5. Crime movies\n",
        "6. Horror movies\n",
        "7. Comedies\n",
        "8. Movies somehow related to TV shows\n",
        "9. Movies based on books\n",
        "10. Action movies\n",
        "To confirm that the categories make sense based on the reviews, let's plot 5 movies from the horror movie category (category 6 at index position 5):"
      ],
      "metadata": {
        "id": "8AhteN6k-Qvt"
      }
    },
    {
      "cell_type": "markdown",
      "source": [
        "\n",
        "To confirm that the categories make sense based on the reviews, let's plot 5 movies from the horror movie category (category 6 at index position 5):"
      ],
      "metadata": {
        "id": "0yorFlJa-g6g"
      }
    },
    {
      "cell_type": "code",
      "source": [
        "horror = X_topics[:, 5].argsort()[::-1]\n",
        "\n",
        "for iter_idx, movie_idx in enumerate(horror[:3]):\n",
        "    print('\\nHorror movie #%d:' % (iter_idx + 1))\n",
        "    print(df['review'][movie_idx][:300], '...')"
      ],
      "metadata": {
        "id": "YsacRO1S-de4"
      },
      "execution_count": null,
      "outputs": []
    }
  ]
}